{
 "cells": [
  {
   "cell_type": "markdown",
   "metadata": {},
   "source": [
    "# Kuis 1 FI3103 Metode Komputasi\n",
    "## Nomor 2"
   ]
  },
  {
   "cell_type": "code",
   "execution_count": 1,
   "metadata": {},
   "outputs": [
    {
     "name": "stdout",
     "output_type": "stream",
     "text": [
      "*\n",
      "**\n",
      "***\n"
     ]
    }
   ],
   "source": [
    "rows1=int(input('Masukkan banyak baris:'))\n",
    "height1=int(input('Masukkan ketinggian antar baris:'))\n",
    "for i in range (1,rows1+1):\n",
    "    for j in range (i):\n",
    "        print('*',end=\"\")\n",
    "    print()\n",
    "    print(\"\\n\"*(height1-1),end=\"\")"
   ]
  },
  {
   "cell_type": "code",
   "execution_count": 2,
   "metadata": {},
   "outputs": [
    {
     "name": "stdout",
     "output_type": "stream",
     "text": [
      "  * \n",
      " * * \n",
      "* * * \n"
     ]
    }
   ],
   "source": [
    "rows2=int(input('Masukkan banyak baris: '))\n",
    "height2= int(input('Masukkan variasi ketinggian antar baris: '))\n",
    "\n",
    "for i in range(1, rows2 + 1):\n",
    "    print(' ' * (rows2 - i), end=\"\")\n",
    "    for j in range(i):\n",
    "        print('*', end=\" \")\n",
    "    print()\n",
    "    for k in range(height2 - 1):\n",
    "        print()"
   ]
  }
 ],
 "metadata": {
  "kernelspec": {
   "display_name": "Python 3",
   "language": "python",
   "name": "python3"
  },
  "language_info": {
   "codemirror_mode": {
    "name": "ipython",
    "version": 3
   },
   "file_extension": ".py",
   "mimetype": "text/x-python",
   "name": "python",
   "nbconvert_exporter": "python",
   "pygments_lexer": "ipython3",
   "version": "3.11.4"
  }
 },
 "nbformat": 4,
 "nbformat_minor": 2
}
