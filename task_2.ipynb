{
 "cells": [
  {
   "cell_type": "code",
   "execution_count": 1,
   "metadata": {},
   "outputs": [
    {
     "name": "stdout",
     "output_type": "stream",
     "text": [
      "*\n",
      "\n",
      "**\n",
      "\n",
      "***\n",
      "\n",
      "Banyak baris: 3\n",
      "Ketinggian: 2\n"
     ]
    }
   ],
   "source": [
    "# Meminta input untuk menentukan banyak baris\n",
    "rows1 = int(input('Masukkan banyak baris:'))\n",
    "\n",
    "# Meminta input untuk menentukan ketinggian (jarak antar baris)\n",
    "height1 = int(input('Masukkan ketinggian antar baris:'))\n",
    "\n",
    "# Looping untuk setiap baris dari 1 hingga jumlah baris yang diminta\n",
    "for i in range(1, rows1 + 1):\n",
    "    \n",
    "    # Looping untuk mencetak bintang sebanyak nilai i pada baris tersebut\n",
    "    for j in range(i):\n",
    "        print('*', end=\"\")  # Mencetak bintang tanpa pindah ke baris baru\n",
    "    \n",
    "    print()  # Pindah ke baris baru setelah bintang pada baris tersebut selesai dicetak\n",
    "    \n",
    "    # Mencetak baris kosong berdasarkan ketinggian yang dimasukkan\n",
    "    print(\"\\n\" * (height1 - 1), end=\"\")\n",
    "\n",
    "# Mencetak jumlah baris dan ketinggian setelah loop selesai\n",
    "print('Banyak baris:', rows1)\n",
    "print('Ketinggian:', height1)"
   ]
  },
  {
   "cell_type": "code",
   "execution_count": 2,
   "metadata": {},
   "outputs": [
    {
     "name": "stdout",
     "output_type": "stream",
     "text": [
      "    * \n",
      "\n",
      "   * * \n",
      "\n",
      "  * * * \n",
      "\n",
      " * * * * \n",
      "\n",
      "* * * * * \n",
      "\n",
      "Banyak baris: 5\n",
      "Ketinggian: 2\n"
     ]
    }
   ],
   "source": [
    "# Meminta input untuk menentukan banyak baris yang akan dicetak\n",
    "rows2 = int(input('Masukkan banyak baris: '))\n",
    "\n",
    "# Meminta input untuk menentukan variasi ketinggian antar baris\n",
    "height2 = int(input('Masukkan variasi ketinggian antar baris: '))\n",
    "\n",
    "# Looping untuk setiap baris dari 1 hingga jumlah baris yang diminta\n",
    "for i in range(1, rows2 + 1):\n",
    "    \n",
    "    # Mencetak spasi di awal baris untuk membuat pola segitiga kanan\n",
    "    # Jumlah spasi yang dicetak adalah (rows2 - i), sehingga segitiga akan teratur\n",
    "    print(' ' * (rows2 - i), end=\"\")\n",
    "    \n",
    "    # Looping untuk mencetak bintang pada setiap baris, sesuai dengan indeks baris\n",
    "    for j in range(i):\n",
    "        print('*', end=\" \")  # Mencetak bintang diikuti dengan spasi\n",
    "    \n",
    "    print()  # Pindah ke baris baru setelah mencetak bintang pada baris tersebut\n",
    "    \n",
    "    # Mencetak beberapa baris kosong untuk memberikan jarak antar baris berdasarkan height2\n",
    "    for k in range(height2 - 1):\n",
    "        print()\n",
    "\n",
    "# Setelah semua baris dicetak, program menampilkan jumlah baris dan variasi ketinggian\n",
    "print('Banyak baris:', rows2)\n",
    "print('Ketinggian:', height2)\n"
   ]
  }
 ],
 "metadata": {
  "kernelspec": {
   "display_name": "Python 3",
   "language": "python",
   "name": "python3"
  },
  "language_info": {
   "codemirror_mode": {
    "name": "ipython",
    "version": 3
   },
   "file_extension": ".py",
   "mimetype": "text/x-python",
   "name": "python",
   "nbconvert_exporter": "python",
   "pygments_lexer": "ipython3",
   "version": "3.11.9"
  }
 },
 "nbformat": 4,
 "nbformat_minor": 2
}
