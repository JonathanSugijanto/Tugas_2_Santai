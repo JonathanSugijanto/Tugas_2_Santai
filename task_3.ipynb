{
 "cells": [
  {
   "cell_type": "markdown",
   "metadata": {},
   "source": [
    "# Tugas 1 FI3103 Metode Komputasi\n",
    "## Nomor 3"
   ]
  },
  {
   "cell_type": "code",
   "execution_count": 1,
   "metadata": {},
   "outputs": [],
   "source": [
    "import numpy as np"
   ]
  },
  {
   "cell_type": "code",
   "execution_count": 2,
   "metadata": {},
   "outputs": [],
   "source": [
    "\n",
    "#membuat angka antara 0 dan 1, dengan 100 baris dan 2 kolom\n",
    "data = np.random.random((100,2))\n",
    "#membuat fungsi sin untuk kolom 1 yang akan diletakkan di kolom 2\n",
    "data[:, 1] = np.sin(data[:, 0])\n",
    "#menyimpan dalam csv, format: 3 desimal, pemisah koma, judul kolom x dan f(x)=sin(x)\n",
    "np.savetxt('test.csv', data, fmt = '%.3f', delimiter=',', header = 'x, f(x)=sin(x)', comments='')\n"
   ]
  }
 ],
 "metadata": {
  "kernelspec": {
   "display_name": "Python 3",
   "language": "python",
   "name": "python3"
  },
  "language_info": {
   "codemirror_mode": {
    "name": "ipython",
    "version": 3
   },
   "file_extension": ".py",
   "mimetype": "text/x-python",
   "name": "python",
   "nbconvert_exporter": "python",
   "pygments_lexer": "ipython3",
   "version": "3.11.4"
  }
 },
 "nbformat": 4,
 "nbformat_minor": 2
}
