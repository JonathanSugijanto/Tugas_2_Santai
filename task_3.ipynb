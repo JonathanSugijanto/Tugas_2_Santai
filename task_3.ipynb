import numpy as np

#membuat angka antara 0 dan 1, dengan 100 baris dan 2 kolom
data = np.random.random((100,2))
#membuat fungsi sin untuk kolom 1 yang akan diletakkan di kolom 2
data[:, 1] = np.sin(data[:, 0])
#menyimpan dalam csv, format: 3 desimal, pemisah koma, judul kolom x dan f(x)=sin(x)
np.savetxt('test.csv', data, fmt = '%.3f', delimiter=',', header = 'x, f(x)=sin(x)')
